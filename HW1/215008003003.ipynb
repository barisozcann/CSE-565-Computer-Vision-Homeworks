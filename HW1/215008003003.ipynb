{
 "cells": [
  {
   "cell_type": "code",
   "execution_count": null,
   "id": "d2bacf56",
   "metadata": {},
   "outputs": [],
   "source": [
    "import cv2 as cv\n",
    "import numpy as np"
   ]
  },
  {
   "cell_type": "code",
   "execution_count": null,
   "id": "a90d315f",
   "metadata": {},
   "outputs": [],
   "source": [
    "SourceImageCoordinates = [[0,0,0],[0,0,0],[0,0,0],[0,0,0]] #Creating Empty Array for Corner Coordinates 4x3\n",
    "\n",
    "SourceImageCoordinates=np.array(SourceImageCoordinates)\n",
    "\n",
    "ReferenceImageCoordinates = [[0,0,0],[0,0,0],[0,0,0],[0,0,0]] #Creating Empty Array for Corner Coordinates 4x3\n",
    "ReferenceImageCoordinates=np.array(ReferenceImageCoordinates)"
   ]
  },
  {
   "cell_type": "code",
   "execution_count": null,
   "id": "2c0335a5",
   "metadata": {},
   "outputs": [],
   "source": [
    "color=(0,0,255) #Red Color"
   ]
  },
  {
   "cell_type": "code",
   "execution_count": null,
   "id": "7f4386aa",
   "metadata": {},
   "outputs": [],
   "source": [
    "first_counter = 0\n",
    "\n",
    "def marker1(event, x, y, flags, param):\n",
    "    global first_counter\n",
    "    \n",
    "    if event == cv.EVENT_LBUTTONDOWN and first_counter != 4:\n",
    "        SourceImageCoordinates[first_counter] = x, y, 1 #homogenous Coordinates\n",
    "        \n",
    "        cv.circle(img=source_image, center=(x, y), radius=7, color=color) #Special Pointer Function of OpenCV Library\n",
    "        \n",
    "        first_counter += 1 #Incrementing Counter\n",
    "        cv.imshow('Source image', source_image)\n",
    "        print('(',x,',',y,')')"
   ]
  },
  {
   "cell_type": "code",
   "execution_count": null,
   "id": "92f384d0",
   "metadata": {},
   "outputs": [],
   "source": [
    "second_counter = 0\n",
    "def marker2(event, x, y, flags, param):\n",
    "    global second_counter\n",
    "    \n",
    "    if event == cv.EVENT_LBUTTONDOWN and second_counter != 4:\n",
    "        ReferenceImageCoordinates[second_counter] = x, y, 1 #homogenous Coordinates\n",
    "        \n",
    "        cv.circle(img=reference_image, center=(x, y), radius=7, color=color) #Special Pointer Function of OpenCV Library\n",
    "        \n",
    "        second_counter += 1 #Incrementing Counter\n",
    "        cv.imshow('Reference image', reference_image)\n",
    "        print('(',x,',',y,')')"
   ]
  },
  {
   "cell_type": "code",
   "execution_count": null,
   "id": "f82dcc48",
   "metadata": {},
   "outputs": [],
   "source": [
    "source_image = cv.imread('Image1.png') #Source Image\n",
    "\n",
    "reference_image = cv.imread('soccer_field.jpg') #Reference Image"
   ]
  },
  {
   "cell_type": "code",
   "execution_count": null,
   "id": "fd1c1f32",
   "metadata": {},
   "outputs": [],
   "source": [
    "cv.imshow('Source image', source_image)\n",
    "cv.setMouseCallback('Source image', marker1)\n",
    "\n",
    "\n",
    "\n",
    "cv.imshow('Reference image', reference_image)\n",
    "cv.setMouseCallback('Reference image', marker2)\n",
    "\n",
    "cv.waitKey(0)"
   ]
  },
  {
   "cell_type": "code",
   "execution_count": null,
   "id": "15122ca5",
   "metadata": {},
   "outputs": [],
   "source": [
    "matrix, mask = cv.findHomography(SourceImageCoordinates, ReferenceImageCoordinates,cv.RANSAC) #RANSAC means Random Sample Consensus\n",
    "\n",
    "result_image = cv.warpPerspective(source_image, matrix, (len(reference_image[0]), len(reference_image))) #Result Image\n",
    "\n",
    "\n",
    "cv.imshow(\"Result Image\", result_image)\n",
    "\n",
    "key = cv.waitKey(0)\n"
   ]
  }
 ],
 "metadata": {
  "kernelspec": {
   "display_name": "Python 3 (ipykernel)",
   "language": "python",
   "name": "python3"
  },
  "language_info": {
   "codemirror_mode": {
    "name": "ipython",
    "version": 3
   },
   "file_extension": ".py",
   "mimetype": "text/x-python",
   "name": "python",
   "nbconvert_exporter": "python",
   "pygments_lexer": "ipython3",
   "version": "3.9.7"
  }
 },
 "nbformat": 4,
 "nbformat_minor": 5
}
